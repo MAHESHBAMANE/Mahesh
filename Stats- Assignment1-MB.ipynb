{
 "cells": [
  {
   "cell_type": "markdown",
   "metadata": {},
   "source": [
    "Calculate the mean, median, mode and standard deviation for the problem\n",
    "statements 1& 2."
   ]
  },
  {
   "cell_type": "markdown",
   "metadata": {},
   "source": [
    "Problem Statement 1:\n",
    "The marks awarded for an assignment set for a Year 8 class of 20 students were as\n",
    "follows:\n",
    "6 7 5 7 7 8 7 6 9 7 4 10 6 8 8 9 5 6 4 8"
   ]
  },
  {
   "cell_type": "code",
   "execution_count": 7,
   "metadata": {},
   "outputs": [],
   "source": [
    "import pandas as pd\n",
    "import numpy as np\n",
    "import matplotlib.pyplot as plt\n",
    "import math"
   ]
  },
  {
   "cell_type": "code",
   "execution_count": null,
   "metadata": {},
   "outputs": [],
   "source": [
    "marks = [6, 7, 5, 7, 7, 8, 7, 6, 9, 7, 4, 10, 6, 8, 8, 9, 5, 6, 4 ]"
   ]
  },
  {
   "cell_type": "code",
   "execution_count": 27,
   "metadata": {},
   "outputs": [],
   "source": [
    "df_marks = pd.DataFrame(marks, columns=['marks'])\n"
   ]
  },
  {
   "cell_type": "code",
   "execution_count": 18,
   "metadata": {},
   "outputs": [
    {
     "name": "stdout",
     "output_type": "stream",
     "text": [
      "Mean Mark:6.85\n"
     ]
    }
   ],
   "source": [
    "print(f\"Mean Mark:{df_marks['marks'].mean()}\")"
   ]
  },
  {
   "cell_type": "code",
   "execution_count": 20,
   "metadata": {},
   "outputs": [
    {
     "name": "stdout",
     "output_type": "stream",
     "text": [
      "Median Mark:7.0\n"
     ]
    }
   ],
   "source": [
    "print(f\"Median Mark:{df_marks['marks'].median()}\")"
   ]
  },
  {
   "cell_type": "code",
   "execution_count": 21,
   "metadata": {},
   "outputs": [
    {
     "name": "stdout",
     "output_type": "stream",
     "text": [
      "Mode Mark:0    7\n",
      "dtype: int64\n"
     ]
    }
   ],
   "source": [
    "print(f\"Mode Mark:{df_marks['marks'].mode()}\")"
   ]
  },
  {
   "cell_type": "code",
   "execution_count": 25,
   "metadata": {},
   "outputs": [
    {
     "name": "stdout",
     "output_type": "stream",
     "text": [
      "Standard Deviation: 1.6311119875071343\n"
     ]
    }
   ],
   "source": [
    "print(f\"Standard Deviation: {df_marks['marks'].std()}\")"
   ]
  },
  {
   "cell_type": "markdown",
   "metadata": {},
   "source": [
    "Problem Statement 2:\n",
    "The number of calls from motorists per day for roadside service was recorded for a particular month:\n",
    "28, 122, 217, 130, 120, 86, 80, 90, 140, 120, 70, 40, 145, 113, 90, 68, 174, 194, 170,\n",
    "100, 75, 104, 97, 75,123, 100, 75, 104, 97, 75, 123, 100, 89, 120, 109\n"
   ]
  },
  {
   "cell_type": "code",
   "execution_count": 43,
   "metadata": {},
   "outputs": [],
   "source": [
    "calls = [28, 122, 217, 130, 120, 86, 80, 90, 140, 120, 70, 40, 145, 113, 90, 68, 174, 194, 170,100, 75, 104, 97, 75,123, 100, 75, 104, 97, 75, 123, 100, 89, 120, 109]\n",
    "df_calls = pd.DataFrame(calls, columns=['calls'])"
   ]
  },
  {
   "cell_type": "code",
   "execution_count": 45,
   "metadata": {},
   "outputs": [
    {
     "name": "stdout",
     "output_type": "stream",
     "text": [
      "Mean Calls: 107.51428571428572\n"
     ]
    }
   ],
   "source": [
    "print(f\"Mean Calls: {df_calls['calls'].mean()}\")"
   ]
  },
  {
   "cell_type": "code",
   "execution_count": 46,
   "metadata": {},
   "outputs": [
    {
     "name": "stdout",
     "output_type": "stream",
     "text": [
      "Median Calls: 100.0\n"
     ]
    }
   ],
   "source": [
    "print(f\"Median Calls: {df_calls['calls'].median()}\")"
   ]
  },
  {
   "cell_type": "code",
   "execution_count": 47,
   "metadata": {},
   "outputs": [
    {
     "name": "stdout",
     "output_type": "stream",
     "text": [
      "Mode Calls: 0    75\n",
      "dtype: int64\n"
     ]
    }
   ],
   "source": [
    "print(f\"Mode Calls: {df_calls['calls'].mode()}\")"
   ]
  },
  {
   "cell_type": "code",
   "execution_count": 48,
   "metadata": {},
   "outputs": [
    {
     "name": "stdout",
     "output_type": "stream",
     "text": [
      "Standard Deviation: 39.33892805484411\n"
     ]
    }
   ],
   "source": [
    "print(f\"Standard Deviation: {df_calls['calls'].std()}\")"
   ]
  },
  {
   "cell_type": "markdown",
   "metadata": {},
   "source": [
    "Problem Statement 3:\n",
    "The number of times I go to the gym in weekdays, are given below along with its\n",
    "associated probability:\n",
    "x = 0, 1, 2, 3, 4, 5\n",
    "f(x) = 0.09, 0.15, 0.40, 0.25, 0.10, 0.01\n",
    "Calculate the mean no. of workouts in a week. Also evaluate the variance involved in\n",
    "it."
   ]
  },
  {
   "cell_type": "code",
   "execution_count": 57,
   "metadata": {},
   "outputs": [
    {
     "data": {
      "text/html": [
       "<div>\n",
       "<style scoped>\n",
       "    .dataframe tbody tr th:only-of-type {\n",
       "        vertical-align: middle;\n",
       "    }\n",
       "\n",
       "    .dataframe tbody tr th {\n",
       "        vertical-align: top;\n",
       "    }\n",
       "\n",
       "    .dataframe thead th {\n",
       "        text-align: right;\n",
       "    }\n",
       "</style>\n",
       "<table border=\"1\" class=\"dataframe\">\n",
       "  <thead>\n",
       "    <tr style=\"text-align: right;\">\n",
       "      <th></th>\n",
       "      <th>x</th>\n",
       "      <th>f_x</th>\n",
       "      <th>workout</th>\n",
       "    </tr>\n",
       "  </thead>\n",
       "  <tbody>\n",
       "    <tr>\n",
       "      <th>0</th>\n",
       "      <td>0</td>\n",
       "      <td>0.09</td>\n",
       "      <td>0.00</td>\n",
       "    </tr>\n",
       "    <tr>\n",
       "      <th>1</th>\n",
       "      <td>1</td>\n",
       "      <td>0.15</td>\n",
       "      <td>0.15</td>\n",
       "    </tr>\n",
       "    <tr>\n",
       "      <th>2</th>\n",
       "      <td>2</td>\n",
       "      <td>0.40</td>\n",
       "      <td>0.80</td>\n",
       "    </tr>\n",
       "    <tr>\n",
       "      <th>3</th>\n",
       "      <td>3</td>\n",
       "      <td>0.25</td>\n",
       "      <td>0.75</td>\n",
       "    </tr>\n",
       "    <tr>\n",
       "      <th>4</th>\n",
       "      <td>4</td>\n",
       "      <td>0.10</td>\n",
       "      <td>0.40</td>\n",
       "    </tr>\n",
       "    <tr>\n",
       "      <th>5</th>\n",
       "      <td>5</td>\n",
       "      <td>0.01</td>\n",
       "      <td>0.05</td>\n",
       "    </tr>\n",
       "  </tbody>\n",
       "</table>\n",
       "</div>"
      ],
      "text/plain": [
       "   x   f_x  workout\n",
       "0  0  0.09     0.00\n",
       "1  1  0.15     0.15\n",
       "2  2  0.40     0.80\n",
       "3  3  0.25     0.75\n",
       "4  4  0.10     0.40\n",
       "5  5  0.01     0.05"
      ]
     },
     "execution_count": 57,
     "metadata": {},
     "output_type": "execute_result"
    }
   ],
   "source": [
    "x = [0, 1, 2, 3, 4, 5]\n",
    "fx = [0.09, 0.15, 0.40, 0.25, 0.10, 0.01]\n",
    "df = pd.DataFrame(x, columns= ['x'])\n",
    "df['f_x'] = fx\n",
    "df['workout'] = df['x']*df['f_x']\n",
    "df"
   ]
  },
  {
   "cell_type": "code",
   "execution_count": 60,
   "metadata": {},
   "outputs": [
    {
     "name": "stdout",
     "output_type": "stream",
     "text": [
      "Mean Work Out: 0.35833333333333334\n"
     ]
    }
   ],
   "source": [
    "print(f\"Mean Work Out: {df['workout'].mean()}\")"
   ]
  },
  {
   "cell_type": "code",
   "execution_count": 61,
   "metadata": {},
   "outputs": [
    {
     "name": "stdout",
     "output_type": "stream",
     "text": [
      "Variance of Work Out: 0.12341666666666669\n"
     ]
    }
   ],
   "source": [
    "print(f\"Variance of Work Out: {df['workout'].var()}\")"
   ]
  },
  {
   "cell_type": "markdown",
   "metadata": {},
   "source": [
    "Problem Statement 4:\n",
    "Let the continuous random variable D denote the diameter of the hole drilled in an aluminum sheet. The target diameter to be achieved is 12.5mm. Random disturbances in the process often result in inaccuracy.Historical data shows that the distribution of D can be modelled by the PDF (𝑑) = 20𝑒−20(𝑑−12.5), 𝑑 ≥ 12.5. If a part with diameter > 12.6 mm needs to be scrapped, what is the proportion of those parts? What is the CDF when the diameter is of 11mm? What is your conclusion regarding the proportion of scraps?"
   ]
  },
  {
   "cell_type": "code",
   "execution_count": 73,
   "metadata": {},
   "outputs": [],
   "source": [
    "def pdf(d):\n",
    "    return 20*math.exp(-20*(d-12.5))\n",
    "scrap=pdf(12.6)\n",
    "scrap1=pdf(13)"
   ]
  },
  {
   "cell_type": "code",
   "execution_count": 71,
   "metadata": {},
   "outputs": [
    {
     "name": "stdout",
     "output_type": "stream",
     "text": [
      "scrap for D=12.6: 2.706705664732273\n"
     ]
    }
   ],
   "source": [
    "print(f\"scrap for D=12.6: {scrap}\")"
   ]
  },
  {
   "cell_type": "code",
   "execution_count": 74,
   "metadata": {},
   "outputs": [
    {
     "name": "stdout",
     "output_type": "stream",
     "text": [
      "scrap for D=13mm: 0.0009079985952496971\n"
     ]
    }
   ],
   "source": [
    "print(f\"scrap for D=13mm: {scrap1}\")"
   ]
  },
  {
   "cell_type": "markdown",
   "metadata": {},
   "source": [
    "Problem Statement 5:\n",
    "A company manufactures LED bulbs with a faulty rate of 30%. If I randomly select 6 chosen LEDs, what is the probability of having 2 faulty LEDs in my sample? Calculate the average value of this process. Also evaluate the standard deviation associated with it."
   ]
  },
  {
   "cell_type": "code",
   "execution_count": 75,
   "metadata": {},
   "outputs": [],
   "source": [
    "p = 0.7 ##probability of not faulty bulbs\n",
    "q = 0.3 ##probability of faulty bulbs\n",
    "n = 6 ##no of trails\n",
    "x = 2 ## 2 faulty LEDs\n"
   ]
  },
  {
   "cell_type": "code",
   "execution_count": 76,
   "metadata": {},
   "outputs": [],
   "source": [
    "from scipy.stats import binom"
   ]
  },
  {
   "cell_type": "code",
   "execution_count": 78,
   "metadata": {},
   "outputs": [],
   "source": [
    "mean, var = binom.stats(n, p, moments='mv')"
   ]
  },
  {
   "cell_type": "code",
   "execution_count": 80,
   "metadata": {},
   "outputs": [
    {
     "name": "stdout",
     "output_type": "stream",
     "text": [
      " Average: 4.199999999999999\n"
     ]
    }
   ],
   "source": [
    "print(f\" Average: {mean}\")"
   ]
  },
  {
   "cell_type": "code",
   "execution_count": 81,
   "metadata": {},
   "outputs": [
    {
     "name": "stdout",
     "output_type": "stream",
     "text": [
      " Standard Deviation: 1.1224972160321824\n"
     ]
    }
   ],
   "source": [
    "print(f\" Standard Deviation: {var**0.5}\")"
   ]
  },
  {
   "cell_type": "code",
   "execution_count": 90,
   "metadata": {},
   "outputs": [
    {
     "name": "stdout",
     "output_type": "stream",
     "text": [
      "Probability of having 2 faulty LEDs in random saple size of 6 is : 0.05954\n"
     ]
    }
   ],
   "source": [
    "print(\"Probability of having 2 faulty LEDs in random saple size of 6 is : {:0.5f}\".format(binom.pmf(x, n, p)))"
   ]
  },
  {
   "cell_type": "code",
   "execution_count": null,
   "metadata": {},
   "outputs": [],
   "source": [
    "Problem Statement 6:\n",
    "Gaurav and Barakha are both preparing for entrance exams. Gaurav attempts to solve 8 questions per day with a correction rate of 75%, while Barakha averages\n",
    "around 12 questions per day with a correction rate of 45%. What is the probability that each of them will solve 5 questions correctly? What happens in cases of 4 and 6\n",
    "correct solutions? What do you infer from it? What are the two main governing factors affecting their ability to solve questions correctly? Give a pictorial\n",
    "representation of the same to validate your answer."
   ]
  },
  {
   "cell_type": "code",
   "execution_count": 91,
   "metadata": {},
   "outputs": [
    {
     "name": "stdout",
     "output_type": "stream",
     "text": [
      "Probability of Gaurav to get 5 questions correctly : 0.20764\n"
     ]
    }
   ],
   "source": [
    "print(\"Probability of Gaurav for getting 5 questions correctly : {:0.5f}\".format(binom.pmf(5, 8, 0.75)))"
   ]
  },
  {
   "cell_type": "code",
   "execution_count": 92,
   "metadata": {},
   "outputs": [
    {
     "name": "stdout",
     "output_type": "stream",
     "text": [
      "Probability of Barakha for getting 5 questions correctly : 0.22250\n"
     ]
    }
   ],
   "source": [
    "print(\"Probability of Barakha for getting 5 questions correctly : {:0.5f}\".format(binom.pmf(5, 12, 0.45)))"
   ]
  },
  {
   "cell_type": "code",
   "execution_count": 94,
   "metadata": {},
   "outputs": [
    {
     "name": "stdout",
     "output_type": "stream",
     "text": [
      "Probability of Gaurav for getting 5 questions correctly : 0.08652\n"
     ]
    }
   ],
   "source": [
    "print(\"Probability of Gaurav for getting 5 questions correctly : {:0.5f}\".format(binom.pmf(4, 8, 0.75)))"
   ]
  },
  {
   "cell_type": "code",
   "execution_count": 95,
   "metadata": {},
   "outputs": [
    {
     "name": "stdout",
     "output_type": "stream",
     "text": [
      "Probability of Gaurav for getting 5 questions correctly : 0.31146\n"
     ]
    }
   ],
   "source": [
    "print(\"Probability of Gaurav for getting 5 questions correctly : {:0.5f}\".format(binom.pmf(6, 8, 0.75)))"
   ]
  },
  {
   "cell_type": "code",
   "execution_count": 96,
   "metadata": {},
   "outputs": [
    {
     "name": "stdout",
     "output_type": "stream",
     "text": [
      "Probability of Barakha for getting 5 questions correctly : 0.16996\n"
     ]
    }
   ],
   "source": [
    "print(\"Probability of Barakha for getting 5 questions correctly : {:0.5f}\".format(binom.pmf(4, 12, 0.45)))"
   ]
  },
  {
   "cell_type": "code",
   "execution_count": 97,
   "metadata": {},
   "outputs": [
    {
     "name": "stdout",
     "output_type": "stream",
     "text": [
      "Probability of Barakha for getting 5 questions correctly : 0.21238\n"
     ]
    }
   ],
   "source": [
    "print(\"Probability of Barakha for getting 5 questions correctly : {:0.5f}\".format(binom.pmf(6, 12, 0.45)))"
   ]
  },
  {
   "cell_type": "code",
   "execution_count": 107,
   "metadata": {},
   "outputs": [
    {
     "data": {
      "image/png": "[encoded data removed]",
      "text/plain": [
       "<Figure size 864x432 with 1 Axes>"
      ]
     },
     "metadata": {
      "needs_background": "light"
     },
     "output_type": "display_data"
    }
   ],
   "source": [
    "k = np.array(range(0,15))\n",
    "\n",
    "fig = plt.figure(figsize = (12, 6))\n",
    "plt.plot(k, binom.pmf(k, 8, 0.75), label = 'Gaurav')\n",
    "plt.plot(k, binom.pmf(k, 12, 0.45), label = 'Barakha')\n",
    "plt.xlabel('Number of questions correctly solved')\n",
    "plt.ylabel('Probability Mass Function')\n",
    "plt.legend()\n",
    "plt.xlim((0, 18))\n",
    "plt.grid()\n",
    "plt.show()"
   ]
  },
  {
   "cell_type": "code",
   "execution_count": null,
   "metadata": {},
   "outputs": [],
   "source": [
    "Problem Statement 7:\n",
    "Customers arrive at a rate of 72 per hour to my shop. What is the probability of 𝑘 customers arriving in 4 minutes? a) 5 customers, b) not more than 3 customers, c)\n",
    "more than 3 customers. Give a pictorial representation of the same to validate your answer."
   ]
  },
  {
   "cell_type": "code",
   "execution_count": 116,
   "metadata": {},
   "outputs": [],
   "source": [
    "from scipy.stats import poisson\n",
    "mu = (72*4)/60\n",
    "k = 5"
   ]
  },
  {
   "cell_type": "code",
   "execution_count": 118,
   "metadata": {},
   "outputs": [
    {
     "name": "stdout",
     "output_type": "stream",
     "text": [
      "probability of arriving 5 customers in 4 minutes 0.17474768364388296\n"
     ]
    }
   ],
   "source": [
    "print(\"probability of arriving 5 customers in 4 minutes\", poisson.pmf(k, mu))"
   ]
  },
  {
   "cell_type": "code",
   "execution_count": 122,
   "metadata": {},
   "outputs": [
    {
     "data": {
      "text/plain": [
       "0.29422991649656405"
      ]
     },
     "execution_count": 122,
     "metadata": {},
     "output_type": "execute_result"
    }
   ],
   "source": [
    "prob3 = poisson.pmf(0, mu) + poisson.pmf(1, mu) + poisson.pmf(2, mu) + poisson.pmf(3, mu)\n",
    "prob3"
   ]
  },
  {
   "cell_type": "code",
   "execution_count": 123,
   "metadata": {},
   "outputs": [
    {
     "name": "stdout",
     "output_type": "stream",
     "text": [
      "probability of arriving not more than 3 customers in 4 minutes 0.2942299164965642\n"
     ]
    }
   ],
   "source": [
    "print(\"probability of arriving not more than 3 customers in 4 minutes\", poisson.cdf(3, mu))"
   ]
  },
  {
   "cell_type": "code",
   "execution_count": 124,
   "metadata": {},
   "outputs": [
    {
     "name": "stdout",
     "output_type": "stream",
     "text": [
      "probability of arriving more than 3 customers in 4 minutes 0.7057700835034357\n"
     ]
    }
   ],
   "source": [
    "prob = poisson.cdf(3, mu)\n",
    "prob1 = 1-prob\n",
    "print(\"probability of arriving more than 3 customers in 4 minutes\", prob1)"
   ]
  },
  {
   "cell_type": "code",
   "execution_count": 129,
   "metadata": {},
   "outputs": [
    {
     "data": {
      "image/png": "[encoded data removed]",
      "text/plain": [
       "<Figure size 864x432 with 1 Axes>"
      ]
     },
     "metadata": {
      "needs_background": "light"
     },
     "output_type": "display_data"
    }
   ],
   "source": [
    "k = np.array(range(0,20))\n",
    "fig = plt.figure(figsize = (12, 6))\n",
    "plt.plot(k, poisson.pmf(k, mu))\n",
    "plt.xlabel('Customers arriving in 4 minutes')\n",
    "plt.ylabel('Probability Mass Function')\n",
    "plt.xlim((0, 18))\n",
    "plt.grid()\n",
    "plt.show()"
   ]
  },
  {
   "cell_type": "markdown",
   "metadata": {},
   "source": [
    "Problem Statement 8:\n",
    "I work as a data analyst in Aeon Learning Pvt. Ltd. After analyzing data, I make reports, where I have the efficiency of entering 77 words per minute with 6 errors per\n",
    "hour. What is the probability that I will commit 2 errors in a 455-word financial report? What happens when the no. of words increases/decreases (in case of 1000 words,\n",
    "255 words)?How is the 𝜆 affected?\n",
    "How does it influence the PMF?\n",
    "Give a pictorial representation of the same to validate your answer."
   ]
  },
  {
   "cell_type": "code",
   "execution_count": 131,
   "metadata": {},
   "outputs": [
    {
     "name": "stdout",
     "output_type": "stream",
     "text": [
      "probability of making 2 error 0.04461753917999444\n"
     ]
    }
   ],
   "source": [
    "from scipy.stats import poisson\n",
    "mu1 = 6\n",
    "mu2 = 77*60\n",
    "k1=2\n",
    "k2=455\n",
    "print(\"probability of making 2 error\", poisson.pmf(k1, mu1))\n"
   ]
  },
  {
   "cell_type": "code",
   "execution_count": 132,
   "metadata": {},
   "outputs": [
    {
     "name": "stdout",
     "output_type": "stream",
     "text": [
      "probability of making 2 error in 455 words 0.0\n"
     ]
    }
   ],
   "source": [
    "print(\"probability of making 2 error in 455 words\", poisson.pmf(k2, mu2))"
   ]
  },
  {
   "cell_type": "markdown",
   "metadata": {},
   "source": [
    "Problem Statement 10:\n",
    "Please compute the following:\n",
    "a) P(Z > 1.26), . P(Z < −0.86), P(Z > −1.37), P(−1.25 < Z < 0.37), . P(Z ≤ −4.6)\n",
    "b) Find the value 𝑧 such that 𝑃(𝑍 > 𝑧) = 0.05\n",
    "c) Find the value of 𝑧 such that 𝑃(−𝑧 < 𝑍 < 𝑧) = 0.99"
   ]
  },
  {
   "cell_type": "code",
   "execution_count": 133,
   "metadata": {},
   "outputs": [],
   "source": [
    "from scipy import stats\n",
    "from scipy.stats import norm"
   ]
  },
  {
   "cell_type": "code",
   "execution_count": 136,
   "metadata": {},
   "outputs": [
    {
     "name": "stdout",
     "output_type": "stream",
     "text": [
      "probability of P(Z>1.26): 0.10383468112130045\n"
     ]
    }
   ],
   "source": [
    "print(\"probability of P(Z>1.26):\",1-norm.cdf(1.26,loc=0,scale=1))\n"
   ]
  },
  {
   "cell_type": "code",
   "execution_count": 137,
   "metadata": {},
   "outputs": [
    {
     "name": "stdout",
     "output_type": "stream",
     "text": [
      "probability of P(Z<-0.86): 0.1948945212518084\n"
     ]
    }
   ],
   "source": [
    "print(\"probability of P(Z<-0.86):\",norm.cdf(-0.86,loc=0,scale=1))"
   ]
  },
  {
   "cell_type": "code",
   "execution_count": 138,
   "metadata": {},
   "outputs": [
    {
     "name": "stdout",
     "output_type": "stream",
     "text": [
      "probability of P(−1.25 < Z < 0.37): 0.5386589811336914\n"
     ]
    }
   ],
   "source": [
    "print(\"probability of P(−1.25 < Z < 0.37):\",norm.cdf(0.37,loc=0,scale=1)-norm.cdf(-1.25,loc=0,scale=1))"
   ]
  },
  {
   "cell_type": "code",
   "execution_count": 139,
   "metadata": {},
   "outputs": [
    {
     "name": "stdout",
     "output_type": "stream",
     "text": [
      "probability of P(Z ≤ −4.6): 2.1124547025028537e-06\n"
     ]
    }
   ],
   "source": [
    "print(\"probability of P(Z ≤ −4.6):\",norm.cdf(-4.6,loc=0,scale=1))"
   ]
  },
  {
   "cell_type": "code",
   "execution_count": 140,
   "metadata": {},
   "outputs": [
    {
     "name": "stdout",
     "output_type": "stream",
     "text": [
      "probability of 𝑃(𝑍 > 𝑧) = 0.05: 1.6448536269514722\n"
     ]
    }
   ],
   "source": [
    "print(\"probability of 𝑃(𝑍 > 𝑧) = 0.05:\",norm.ppf(0.95,loc=0,scale=1))"
   ]
  },
  {
   "cell_type": "code",
   "execution_count": 142,
   "metadata": {},
   "outputs": [
    {
     "name": "stdout",
     "output_type": "stream",
     "text": [
      "probability of 𝑃(−𝑧 < 𝑍 < 𝑧) = 0.99: 2.5758293035489004\n"
     ]
    }
   ],
   "source": [
    "print(\"probability of 𝑃(−𝑧 < 𝑍 < 𝑧) = 0.99:\",norm.ppf(0.995,loc=0,scale=1))"
   ]
  },
  {
   "cell_type": "markdown",
   "metadata": {},
   "source": [
    "Problem Statement 11:\n",
    "The current flow in a copper wire follow a normal distribution with a mean of 10 𝑚A and a variance of 4 (𝑚𝐴)2.\n",
    "What is the probability that a current measurement will exceed 13 𝑚𝐴? What is the probability that a current measurement is between 9 and 11mA? Determine the current measurement which has a probability of 0.98.\n"
   ]
  },
  {
   "cell_type": "code",
   "execution_count": 144,
   "metadata": {},
   "outputs": [],
   "source": [
    "mean = 10\n",
    "var = 4\n",
    "std = var**0.5"
   ]
  },
  {
   "cell_type": "code",
   "execution_count": 145,
   "metadata": {},
   "outputs": [
    {
     "name": "stdout",
     "output_type": "stream",
     "text": [
      "probability of current measurement will exceed 13 𝑚𝐴: 0.06680720126885809\n"
     ]
    }
   ],
   "source": [
    "print(\"probability of current measurement will exceed 13 𝑚𝐴:\",1 - norm.cdf(13,mean,std))"
   ]
  },
  {
   "cell_type": "code",
   "execution_count": 146,
   "metadata": {},
   "outputs": [
    {
     "name": "stdout",
     "output_type": "stream",
     "text": [
      "probability of current measurement is between 9 and 11mA: 0.38292492254802624\n"
     ]
    }
   ],
   "source": [
    "print(\"probability of current measurement is between 9 and 11mA:\",norm.cdf(11,mean,std)-norm.cdf(9,mean,std))"
   ]
  },
  {
   "cell_type": "code",
   "execution_count": 148,
   "metadata": {},
   "outputs": [
    {
     "name": "stdout",
     "output_type": "stream",
     "text": [
      "Current measurement which has a probability of 0.98: 14.107497821263646\n"
     ]
    }
   ],
   "source": [
    "print(\"Current measurement which has a probability of 0.98:\",norm.ppf(0.98,mean,std),)"
   ]
  },
  {
   "cell_type": "markdown",
   "metadata": {},
   "source": [
    "Problem Statement 12:\n",
    "The shaft in a piston has its diameter normally distributed with a mean of 0.2508 inch and a standard deviation of 0.0005 inch. The specifications of the shaft are 0.2500 ∓ 0.0015 inch. What proportion of shafts are in sync with the specifications? If the\n",
    "process is centered so that the mean is equal to the target value of 0.2500, what proportion of shafts conform to the new specifications? What is your conclusion from this experiment?\n"
   ]
  },
  {
   "cell_type": "code",
   "execution_count": 150,
   "metadata": {},
   "outputs": [],
   "source": [
    "mean = 0.2508\n",
    "std = 0.0005\n",
    "dmax= 0.2515\n",
    "dmin=0.2485"
   ]
  },
  {
   "cell_type": "code",
   "execution_count": 151,
   "metadata": {},
   "outputs": [
    {
     "name": "stdout",
     "output_type": "stream",
     "text": [
      "proportion of shafts are in sync with the specifications: 0.91924122831152\n"
     ]
    }
   ],
   "source": [
    "print(\"proportion of shafts are in sync with the specifications:\",norm.cdf(dmax,mean,std)-norm.cdf(dmin,mean,std))"
   ]
  },
  {
   "cell_type": "code",
   "execution_count": 152,
   "metadata": {},
   "outputs": [],
   "source": [
    "mean1 = 0.2500"
   ]
  },
  {
   "cell_type": "code",
   "execution_count": 153,
   "metadata": {},
   "outputs": [
    {
     "name": "stdout",
     "output_type": "stream",
     "text": [
      "proportion of shafts conform to the new specifications: 0.9973002039367398\n"
     ]
    }
   ],
   "source": [
    "print(\"proportion of shafts conform to the new specifications:\",norm.cdf(dmax,mean1,std)-norm.cdf(dmin,mean1,std))"
   ]
  },
  {
   "cell_type": "markdown",
   "metadata": {},
   "source": [
    "#If the process is centered so that the mean is equal to the target value of 0.2500, then proportion of shafts conform to the new specifications: 0.9973002039367398, conculsion - New mean gives better results."
   ]
  }
 ],
 "metadata": {
  "kernelspec": {
   "display_name": "Python 3",
   "language": "python",
   "name": "python3"
  },
  "language_info": {
   "codemirror_mode": {
    "name": "ipython",
    "version": 3
   },
   "file_extension": ".py",
   "mimetype": "text/x-python",
   "name": "python",
   "nbconvert_exporter": "python",
   "pygments_lexer": "ipython3",
   "version": "3.7.6"
  }
 },
 "nbformat": 4,
 "nbformat_minor": 4
}
