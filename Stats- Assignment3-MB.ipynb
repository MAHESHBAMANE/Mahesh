{
 "cells": [
  {
   "cell_type": "markdown",
   "metadata": {},
   "source": [
    "Problem Statement 1:\n",
    "Blood glucose levels for obese patients have a mean of 100 with a standard deviation of\n",
    "15. A researcher thinks that a diet high in raw cornstarch will have a positive effect on\n",
    "blood glucose levels. A sample of 36 patients who have tried the raw cornstarch diet\n",
    "have a mean glucose level of 108. Test the hypothesis that the raw cornstarch had an\n",
    "effect or not."
   ]
  },
  {
   "cell_type": "code",
   "execution_count": 1,
   "metadata": {},
   "outputs": [],
   "source": [
    "import numpy as np\n",
    "import pandas as pd\n",
    "from scipy import stats\n",
    "import matplotlib.pyplot as plt\n",
    "import math\n",
    "from scipy.stats import chi2"
   ]
  },
  {
   "cell_type": "code",
   "execution_count": 3,
   "metadata": {},
   "outputs": [],
   "source": [
    "mu =100\n",
    "std=15\n",
    "n=36\n",
    "sa=108\n",
    "alpha = 0.05"
   ]
  },
  {
   "cell_type": "markdown",
   "metadata": {},
   "source": [
    "Ho - mu =100, there is no effect\n",
    "Ha m =! 100, there is effect.\n",
    "There are 36 samples which is more than 30, Z-test is used for hypothesis test."
   ]
  },
  {
   "cell_type": "code",
   "execution_count": 11,
   "metadata": {},
   "outputs": [
    {
     "name": "stdout",
     "output_type": "stream",
     "text": [
      "3.2\n",
      "0.0006871379379158604\n"
     ]
    }
   ],
   "source": [
    "z_value = (sa-mu)/(std/(n**0.5))\n",
    "print(z_value)\n",
    "p = 1 - stats.norm.cdf(z_value,0,1)\n",
    "print(p)"
   ]
  },
  {
   "cell_type": "code",
   "execution_count": 16,
   "metadata": {},
   "outputs": [
    {
     "name": "stdout",
     "output_type": "stream",
     "text": [
      " Calculated P value 0.0007 is less than alpha0.05, Reject the Null hypothesis and Accept the Ha, therefore there is effect of raw cornstarch diet \n"
     ]
    }
   ],
   "source": [
    "if p < 0.05:\n",
    "    print(f\" Calculated P value {p:1.4f} is less than alpha{alpha:1.2f}, Reject the Null hypothesis and Accept the Ha, therefore there is effect of raw cornstarch diet \")\n",
    "else:\n",
    "    print(f\" Calculated P value {p:1.4f} greater than alpha{alpha:1.2f}, Accept the Null Hypothesis\")"
   ]
  },
  {
   "cell_type": "markdown",
   "metadata": {},
   "source": [
    "Conclusion - Calculated P value 0.0007 is less than alpha0.05, Reject the Null hypothesis and Accept the Ha, therefore there is effect of raw cornstarch diet "
   ]
  },
  {
   "cell_type": "markdown",
   "metadata": {},
   "source": [
    "Problem Statement 2:\n",
    "In one state, 52% of the voters are Republicans, and 48% are Democrats. In a second state, 47% of the voters are Republicans, and 53% are Democrats. Suppose a simple random sample of 100 voters are surveyed from each state. What is the probability that the survey will show a greater percentage of Republican voters in the second state than in the first state?"
   ]
  },
  {
   "cell_type": "code",
   "execution_count": 17,
   "metadata": {},
   "outputs": [],
   "source": [
    "pr1= 0.52\n",
    "pr2=0.47\n",
    "n=100\n",
    "mu_diff = pr1-pr2\n",
    "std = ((pr1*(1-pr1)/100) + (pr2*(1-pr2)/100))**0.5"
   ]
  },
  {
   "cell_type": "code",
   "execution_count": 18,
   "metadata": {},
   "outputs": [
    {
     "name": "stdout",
     "output_type": "stream",
     "text": [
      "Probability that the survey will show a greater percentage of Republican voters in the second state than in \n",
      "      the first state:  0.23946399182220013\n"
     ]
    }
   ],
   "source": [
    "print(\"\"\"Probability that the survey will show a greater percentage of Republican voters in the second state than in \n",
    "      the first state: \"\"\", stats.norm.cdf(0, mu_diff, std))"
   ]
  },
  {
   "cell_type": "markdown",
   "metadata": {},
   "source": [
    "Problem Statement 3:\n",
    "You take the SAT and score 1100. The mean score for the SAT is 1026 and the standard deviation is 209. How well did you score on the test compared to the average test taker?"
   ]
  },
  {
   "cell_type": "code",
   "execution_count": 24,
   "metadata": {},
   "outputs": [
    {
     "name": "stdout",
     "output_type": "stream",
     "text": [
      "0.35406698564593303\n",
      "I scored 13.84% better than average test score\n"
     ]
    }
   ],
   "source": [
    "mu =1026\n",
    "x=1100\n",
    "std=209\n",
    "z_value = (x-mu)/std\n",
    "print(z_value)\n",
    "p= (stats.norm.cdf(z_value) - stats.norm.cdf(0))*100\n",
    "print(f\"I scored {p:2.2f}% better than average test score\")"
   ]
  },
  {
   "cell_type": "code",
   "execution_count": null,
   "metadata": {},
   "outputs": [],
   "source": []
  }
 ],
 "metadata": {
  "kernelspec": {
   "display_name": "Python 3",
   "language": "python",
   "name": "python3"
  },
  "language_info": {
   "codemirror_mode": {
    "name": "ipython",
    "version": 3
   },
   "file_extension": ".py",
   "mimetype": "text/x-python",
   "name": "python",
   "nbconvert_exporter": "python",
   "pygments_lexer": "ipython3",
   "version": "3.7.6"
  }
 },
 "nbformat": 4,
 "nbformat_minor": 4
}
