{
 "cells": [
  {
   "cell_type": "markdown",
   "metadata": {},
   "source": [
    "Problem Statement 1:\n",
    "In each of the following situations, state whether it is a correctly stated hypothesis\n",
    "testing problem and why?\n",
    "1. H0: μ = 25, H1: μ ≠ 25 - Correct\n",
    "2. H0: σ > 10, H1: σ = 10 - Non Correct\n",
    "3. H0: x = 50, H1: x ≠ 50 - Correct\n",
    "4. H0: p = 0.1, H1: p = 0.5 - Non Correct\n",
    "5. H0: s = 30, H1: s > 30 - Correct"
   ]
  },
  {
   "cell_type": "markdown",
   "metadata": {},
   "source": [
    "Problem Statement 2:\n",
    "The college bookstore tells prospective students that the average cost of its textbooks is Rs. 52 with a standard deviation of Rs. 4.50. A group of smart statistics students thinks that the average cost is higher. To test the bookstore’s claim against their alternative, the students will select a random sample of size 100. Assume that the mean from their random sample is Rs. 52.80. Perform a hypothesis test at the 5% level of significance and state your decision.\n"
   ]
  },
  {
   "cell_type": "code",
   "execution_count": 186,
   "metadata": {},
   "outputs": [],
   "source": [
    "import numpy as np\n",
    "import pandas as pd\n",
    "from scipy import stats\n",
    "import matplotlib.pyplot as plt\n",
    "import math\n",
    "from scipy.stats import chi2"
   ]
  },
  {
   "cell_type": "code",
   "execution_count": 58,
   "metadata": {},
   "outputs": [],
   "source": [
    "mu=52\n",
    "std=4.5\n",
    "n=100\n",
    "sa=52.80\n",
    "alpha=0.05\n",
    "alpha\n",
    "# The sample size is more than 30 and based on central limit theorefore distribution of sample is normal.\n",
    "#Z-test is used in this hypothesis test."
   ]
  },
  {
   "cell_type": "code",
   "execution_count": 87,
   "metadata": {},
   "outputs": [
    {
     "name": "stdout",
     "output_type": "stream",
     "text": [
      "-2.023137479931484\n",
      "0.9784705123462794\n",
      "-1.9599639845400545\n"
     ]
    }
   ],
   "source": [
    "z_test = (sa-mu)/(std/(n**0.5))\n",
    "print(z_test)\n",
    "p = 1 - stats.norm.cdf(z_test,0,1)\n",
    "print(p)\n",
    "z = stats.norm.ppf(0.025,0,1)\n",
    "print(z)"
   ]
  },
  {
   "cell_type": "markdown",
   "metadata": {},
   "source": [
    "Ho= Average cost of book is 52\n",
    "H1 = Average cost of book is not 52\n",
    "Its two tail Z-test to large sample size and text book cost can be more than 52 or less than 52"
   ]
  },
  {
   "cell_type": "code",
   "execution_count": 92,
   "metadata": {},
   "outputs": [
    {
     "name": "stdout",
     "output_type": "stream",
     "text": [
      "p-value (0.9785) is greater than significance lever 0.03. Therefore, null hypothesis is accepted, therfore average cost of book is 52.\n"
     ]
    }
   ],
   "source": [
    "if p < 0.025:\n",
    "    print(f\"\"\"P-value ({p:1.3f}) is lower than significance level ({alpha/2:1.2f}), then Null hypothesis is rejected\"\"\")\n",
    "else:\n",
    "    print(f\"\"\"p-value ({p:1.4f}) is greater than significance lever {alpha/2:1.2f}. Therefore, null hypothesis is accepted, therfore average cost of book is 52.\"\"\")"
   ]
  },
  {
   "cell_type": "markdown",
   "metadata": {},
   "source": [
    "Problem Statement 3:\n",
    "A certain chemical pollutant in the Genesee River has been constant for several years with mean μ = 34 ppm (parts per million) and standard deviation σ = 8 ppm. A group of factory representatives whose companies discharge liquids into the river is\n",
    "now claiming that they have lowered the average with improved filtration devices. A group of environmentalists will test to see if this is true at the 1% level of significance. Assume \\ that their sample of size 50 gives a mean of 32.5 ppm.\n",
    "Perform a hypothesis test at the 1% level of significance and state your decision."
   ]
  },
  {
   "cell_type": "code",
   "execution_count": 99,
   "metadata": {},
   "outputs": [],
   "source": [
    "mu=34\n",
    "std=8\n",
    "n=50\n",
    "sa=32.5\n",
    "alpha=0.01\n",
    "critical=alpha/2\n",
    "# The sample size is more than 30 and based on central limit theorefore distribution of sample is normal.\n",
    "#Z-test is used in this hypothesis test."
   ]
  },
  {
   "cell_type": "code",
   "execution_count": 100,
   "metadata": {},
   "outputs": [
    {
     "name": "stdout",
     "output_type": "stream",
     "text": [
      "-1.3258252147247767\n",
      "0.9075512005172\n",
      "-2.575829303548901\n"
     ]
    }
   ],
   "source": [
    "z_test = (sa-mu)/(std/(n**0.5))\n",
    "print(z_test)\n",
    "p = 1 - stats.norm.cdf(z_test)\n",
    "print(p)\n",
    "z = stats.norm.ppf(0.005,0,1)\n",
    "print(z)"
   ]
  },
  {
   "cell_type": "markdown",
   "metadata": {},
   "source": [
    "Ho = μ < 34 ppm \n",
    "Ha:  µ ≠  34ppm \n",
    "Z-test is used in this hypothesis test. Its two tail test. "
   ]
  },
  {
   "cell_type": "code",
   "execution_count": 102,
   "metadata": {},
   "outputs": [
    {
     "name": "stdout",
     "output_type": "stream",
     "text": [
      "p-value (0.9076) is greater than significance level 0.01. Therefore, null hypothesis is accepted, Mean is leass than 34 ppm.\n"
     ]
    }
   ],
   "source": [
    "if p < 0.005:\n",
    "    print(f\"\"\"P-value ({p:1.3f}) is lower than significance level ({critical:1.2f}), then Null hypothesis is rejected\"\"\")\n",
    "else:\n",
    "    print(f\"\"\"p-value ({p:1.4f}) is greater than significance level {critical:1.2f}. Therefore, null hypothesis is accepted, Mean is leass than 34 ppm.\"\"\")"
   ]
  },
  {
   "cell_type": "markdown",
   "metadata": {},
   "source": [
    "Problem Statement 4:\n",
    "Based on population figures and other general information on the U.S. population, suppose it has been estimated that, on average, a family of four in the U.S. spends about $1135 annually on dental expenditures. Suppose further that a regional dental\n",
    "association wants to test to determine if this figure is accurate for their area of country. To test this, 22 families of 4 are randomly selected from the population in that area of the country and a log is kept of the family’s dental expenditure for one\n",
    "year. The resulting data are given below. Assuming, that dental expenditure is normally distributed in the population, use the data and an alpha of 0.5 to test the dental association’s hypothesis.\n",
    "1008, 812, 1117, 1323, 1308, 1415, 831, 1021, 1287, 851, 930, 730, 699, 872, 913, 944, 954, 987, 1695, 995, 1003, 994"
   ]
  },
  {
   "cell_type": "code",
   "execution_count": 11,
   "metadata": {},
   "outputs": [],
   "source": [
    "mu=1135\n",
    "n=22\n",
    "df=22-1\n",
    "alpha=0.05\n",
    "critical=0.025\n",
    "x=[1008, 812, 1117, 1323, 1308, 1415, 831, 1021, 1287, 851, 930, 730, 699, 872, 913, 944, 954, 987, 1695, 995, 1003, 994]\n",
    "df_x=pd.DataFrame(x,columns= ['expense'])\n",
    "sa = df_x['expense'].mean()\n",
    "std= df_x['expense'].std()\n",
    "# The sample size is more than 22 and based on central limit theorefore distribution of sample is normal.\n",
    "#T-test is used in this hypothesis test."
   ]
  },
  {
   "cell_type": "code",
   "execution_count": 12,
   "metadata": {},
   "outputs": [
    {
     "name": "stdout",
     "output_type": "stream",
     "text": [
      "-2.023137479931484\n",
      "0.9720130840267708\n",
      "-2.0796138447276626\n"
     ]
    }
   ],
   "source": [
    "T_test = (sa-mu)/(std/(n**0.5))\n",
    "print(T_test)\n",
    "p = 1 - stats.t.cdf(T_test,df=21)\n",
    "print(p)\n",
    "t = stats.t.ppf(0.025,21)\n",
    "print(t)"
   ]
  },
  {
   "cell_type": "markdown",
   "metadata": {},
   "source": [
    "Ho = μ = $1135 \n",
    "Ha: µ ≠ $1135\n",
    "Its two tail test.\n"
   ]
  },
  {
   "cell_type": "code",
   "execution_count": 15,
   "metadata": {},
   "outputs": [
    {
     "name": "stdout",
     "output_type": "stream",
     "text": [
      "p-value (0.9720) is greater than significance level 0.03. Therefore, null hypothesis is accepted, average income of family is $1135.\n"
     ]
    }
   ],
   "source": [
    "if p < 0.025:\n",
    "    print(f\"\"\"P-value ({p:1.3f}) is lower than significance level ({critical:1.2f}), then Null hypothesis is rejected\"\"\")\n",
    "else:\n",
    "    print(f\"\"\"p-value ({p:1.4f}) is greater than significance level {critical:1.2f}. Therefore, null hypothesis is accepted, average income of family is $1135.\"\"\")"
   ]
  },
  {
   "cell_type": "markdown",
   "metadata": {},
   "source": [
    "Problem Statement 5:\n",
    "In a report prepared by the Economic Research Department of a major bank the Department manager maintains that the average annual family income on Metropolis is $48,432. What do you conclude about the validity of the report if a random sample\n",
    "of 400 families shows and average income of $48,574 with a standard deviation of 2000?"
   ]
  },
  {
   "cell_type": "code",
   "execution_count": 30,
   "metadata": {},
   "outputs": [],
   "source": [
    "mu=48432\n",
    "n=400\n",
    "sa=48574\n",
    "std=2000\n",
    "alpha=0.05\n",
    "critical=alpha/2\n",
    "# The sample size is more than 400 and based on central limit theorefore distribution of sample is normal.\n",
    "#Z-test is used in this hypothesis test."
   ]
  },
  {
   "cell_type": "markdown",
   "metadata": {},
   "source": [
    "Ho = μ = $48432 \n",
    "Ha: µ > $48432\n",
    "Its two tail test."
   ]
  },
  {
   "cell_type": "code",
   "execution_count": 31,
   "metadata": {},
   "outputs": [
    {
     "name": "stdout",
     "output_type": "stream",
     "text": [
      "1.42\n",
      "0.07780384052654643\n",
      "-1.6448536269514729\n"
     ]
    }
   ],
   "source": [
    "z_test = (sa-mu)/(std/(n**0.5))\n",
    "print(z_test)\n",
    "p = 1 - stats.norm.cdf(z_test)\n",
    "print(p)\n",
    "z = stats.norm.ppf(0.05,0,1)\n",
    "print(z)"
   ]
  },
  {
   "cell_type": "code",
   "execution_count": 32,
   "metadata": {},
   "outputs": [
    {
     "name": "stdout",
     "output_type": "stream",
     "text": [
      "p-value (0.0778) is greater than significance level 0.03. Therefore, null hypothesis is accepted, therefore average income is $48432.\n"
     ]
    }
   ],
   "source": [
    "if p < 0.05:\n",
    "    print(f\"\"\"P-value ({p:1.3f}) is lower than significance level ({critical:1.2f}), then Null hypothesis is rejected\"\"\")\n",
    "else:\n",
    "    print(f\"\"\"p-value ({p:1.4f}) is greater than significance level {critical:1.2f}. Therefore, null hypothesis is accepted, therefore average income is $48432.\"\"\")"
   ]
  },
  {
   "cell_type": "markdown",
   "metadata": {},
   "source": [
    "Problem Statement 6:\n",
    "Suppose that in past years the average price per square foot for warehouses in the United States has been $32.28. A national real estate investor wants to determine whether that figure has changed now. The investor hires a researcher who randomly\n",
    "samples 19 warehouses that are for sale across the United States and finds that the mean price per square foot is $31.67, with a standard deviation of $1.29. assume that the prices of warehouse footage are normally distributed in population. If the\n",
    "researcher uses a 5% level of significance, what statistical conclusion can be reached? What are the hypotheses?"
   ]
  },
  {
   "cell_type": "code",
   "execution_count": 40,
   "metadata": {},
   "outputs": [],
   "source": [
    "mu=32.28\n",
    "n=19\n",
    "sa=31.67\n",
    "std=1.29\n",
    "alpha=0.05\n",
    "critical=alpha/2\n",
    "df=n-1\n",
    "# The sample size is less than 19.\n",
    "#T-test is used in this hypothesis test."
   ]
  },
  {
   "cell_type": "markdown",
   "metadata": {},
   "source": [
    "Ho = μ = $32.28 #Average price per square foot.\n",
    "Ha: µ ≠ $32.28\n",
    "Its two tail test."
   ]
  },
  {
   "cell_type": "code",
   "execution_count": 43,
   "metadata": {},
   "outputs": [
    {
     "name": "stdout",
     "output_type": "stream",
     "text": [
      "-2.06118477175179\n",
      "0.972983235420014\n",
      "-2.10092204024096\n"
     ]
    }
   ],
   "source": [
    "T_test = (sa-mu)/(std/(n**0.5))\n",
    "print(T_test)\n",
    "p = 1 - stats.t.cdf(T_test,df=18)\n",
    "print(p)\n",
    "t = stats.t.ppf(0.025,18)\n",
    "print(t)"
   ]
  },
  {
   "cell_type": "code",
   "execution_count": 44,
   "metadata": {},
   "outputs": [
    {
     "name": "stdout",
     "output_type": "stream",
     "text": [
      "p-value (0.9730) is greater than significance level 0.03. Therefore, null hypothesis is accepted, average price per square foot is $32.28.\n"
     ]
    }
   ],
   "source": [
    "if p < 0.025:\n",
    "    print(f\"\"\"P-value ({p:1.3f}) is lower than significance level ({critical:1.2f}), then Null hypothesis is rejected\"\"\")\n",
    "else:\n",
    "    print(f\"\"\"p-value ({p:1.4f}) is greater than significance level {critical:1.2f}. Therefore, null hypothesis is accepted, average price per square foot is $32.28.\"\"\")"
   ]
  },
  {
   "cell_type": "markdown",
   "metadata": {},
   "source": [
    "Problem Statement 8:\n",
    "Find the t-score for a sample size of 16 taken from a population with mean 10 when the sample mean is 12 and the sample standard deviation is 1.5."
   ]
  },
  {
   "cell_type": "code",
   "execution_count": null,
   "metadata": {},
   "outputs": [],
   "source": [
    "mu=10\n",
    "n=16\n",
    "sa=12\n",
    "std=1.5\n",
    "df=n-1\n"
   ]
  },
  {
   "cell_type": "code",
   "execution_count": 47,
   "metadata": {},
   "outputs": [
    {
     "name": "stdout",
     "output_type": "stream",
     "text": [
      "-2.06118477175179\n"
     ]
    }
   ],
   "source": [
    "T_score = (sa-mu)/(std/(n**0.5))\n",
    "print(T_score)\n"
   ]
  },
  {
   "cell_type": "markdown",
   "metadata": {},
   "source": [
    "Problem Statement 9:\n",
    "Find the t-score below which we can expect 99% of sample means will fall if samples of size 16 are taken from a normally distributed population."
   ]
  },
  {
   "cell_type": "code",
   "execution_count": 8,
   "metadata": {},
   "outputs": [
    {
     "name": "stdout",
     "output_type": "stream",
     "text": [
      "-2.6024802949954933\n"
     ]
    }
   ],
   "source": [
    "n=16\n",
    "df=n-1\n",
    "alpha=0.01\n",
    "t = stats.t.ppf(0.01,15)\n",
    "print(t)\n"
   ]
  },
  {
   "cell_type": "markdown",
   "metadata": {},
   "source": [
    "Problem Statement 10:\n",
    "If a random sample of size 25 drawn from a normal population gives a mean of 60 and a standard deviation of 4, find the range of t-scores where we can expect to find the middle 95% of all sample means. Compute the probability that (−t0.05 <t<t0.10)."
   ]
  },
  {
   "cell_type": "code",
   "execution_count": 12,
   "metadata": {},
   "outputs": [],
   "source": [
    "mu = 60\n",
    "n=25\n",
    "std=4\n",
    "alpha=0.05\n"
   ]
  },
  {
   "cell_type": "code",
   "execution_count": 16,
   "metadata": {},
   "outputs": [
    {
     "name": "stdout",
     "output_type": "stream",
     "text": [
      "-1.7108820799094282\n",
      "95% CI: 60.40789533106342, 59.59210466893658\n"
     ]
    }
   ],
   "source": [
    "t = stats.t.ppf(0.05,24)\n",
    "print(t)\n",
    "range1 = mu + t_value*(std/(n**0.5))\n",
    "range2 = mu - t_value*(std/(n**0.5))\n",
    "print(f\"95% CI: {range1}, {range2}\")"
   ]
  },
  {
   "cell_type": "markdown",
   "metadata": {},
   "source": [
    "Problem Statement 11:\n",
    "Two-tailed test for difference between two population means Is there evidence to conclude that the number of people travelling from Bangalore to Chennai is different from the number of people travelling from Bangalore to Hosur in a week, given the following:\n",
    "Population 1: Bangalore to Chennai n1 = 1200\n",
    "x1 = 452\n",
    "s1 = 212\n",
    "Population 2: Bangalore to Hosur n2 = 800\n",
    "x2 = 523\n",
    "s2 = 185"
   ]
  },
  {
   "cell_type": "code",
   "execution_count": 19,
   "metadata": {},
   "outputs": [],
   "source": [
    "n1=1200\n",
    "x1=452\n",
    "s1=212\n",
    "\n",
    "n2=800\n",
    "x2=523\n",
    "s2=185"
   ]
  },
  {
   "cell_type": "markdown",
   "metadata": {},
   "source": [
    "Ho = There is no change two population mean i e x1=x2\n",
    "Ho = There is difference between two population mean x1=!x2"
   ]
  },
  {
   "cell_type": "code",
   "execution_count": 30,
   "metadata": {},
   "outputs": [
    {
     "name": "stdout",
     "output_type": "stream",
     "text": [
      "3.5761589403973506\n",
      "0.00018482198832892038\n"
     ]
    },
    {
     "data": {
      "text/plain": [
       "Ttest_indResult(statistic=5.025702668336442, pvalue=1.1185647741148368e-06)"
      ]
     },
     "execution_count": 30,
     "metadata": {},
     "output_type": "execute_result"
    }
   ],
   "source": [
    "t_value=(x1-x2)/((s1/(n1**0.5)+(s2)/(n2**0.5)))\n",
    "print(t_value)\n",
    "p = 1 - stats.t.cdf(t_value,df=799)\n",
    "print(p)\n",
    "## T-test with different means and variance\n",
    "stats.ttest_ind_from_stats(x1,s1,n1,x2,s2,n2)\n"
   ]
  },
  {
   "cell_type": "markdown",
   "metadata": {},
   "source": [
    "Since P-value is less than 0.05, Alternative hypothesis is accepted. There is difference between means of two population. There is evidence to conclude that the number of people travelling from Bangalore to Chennai is different from the number of people travelling from Bangalore to Hosur in a week."
   ]
  },
  {
   "cell_type": "markdown",
   "metadata": {},
   "source": [
    "Problem Statement 12:\n",
    "Is there evidence to conclude that the number of people preferring Duracell battery is different from the number of people preferring Energizer battery, given the following:\n",
    "Population 1: Duracell\n",
    "n1 = 100\n",
    "x1 = 308\n",
    "s1 = 84\n",
    "Population 2: Energizer\n",
    "n2 = 100\n",
    "x2 = 254\n",
    "s2 = 67"
   ]
  },
  {
   "cell_type": "code",
   "execution_count": 28,
   "metadata": {},
   "outputs": [],
   "source": [
    "n1 = 100\n",
    "x1 = 308\n",
    "s1 = 84\n",
    "\n",
    "n2 = 100\n",
    "x2 = 254\n",
    "s2 = 67"
   ]
  },
  {
   "cell_type": "markdown",
   "metadata": {},
   "source": [
    "The null hypothesis (H0) is no difference between the two populaiton mean i.e x1 = x2\n",
    "\n",
    "The alternative hypothesis is there is difference between two population i.e. x1 != x2"
   ]
  },
  {
   "cell_type": "code",
   "execution_count": 31,
   "metadata": {},
   "outputs": [
    {
     "name": "stdout",
     "output_type": "stream",
     "text": [
      "3.5761589403973506\n",
      "0.00027064140928922953\n"
     ]
    },
    {
     "data": {
      "text/plain": [
       "Ttest_indResult(statistic=5.025702668336442, pvalue=1.1185647741148368e-06)"
      ]
     },
     "execution_count": 31,
     "metadata": {},
     "output_type": "execute_result"
    }
   ],
   "source": [
    "t_value=(x1-x2)/((s1/(n1**0.5)+(s2)/(n2**0.5)))\n",
    "print(t_value)\n",
    "p = 1 - stats.t.cdf(t_value,df=99)\n",
    "print(p)\n",
    "## T-test with different means and variance\n",
    "stats.ttest_ind_from_stats(x1,s1,n1,x2,s2,n2)"
   ]
  },
  {
   "cell_type": "markdown",
   "metadata": {},
   "source": [
    "Since P-value is less than 0.05, Alternative hypothesis is accepted. There is difference between means of two population.\n",
    "there is evidence to conclude that the number of people preferring Duracell battery is different from the number of people preferring Energizer battery. "
   ]
  },
  {
   "cell_type": "markdown",
   "metadata": {},
   "source": [
    "Problem Statement 13:\n",
    "Pooled estimate of the population variance Does the data provide sufficient evidence to conclude that average percentage\n",
    "increase in the price of sugar differs when it is sold at two different prices?\n",
    "Population 1: Price of sugar = Rs. 27.50 n1 = 14\n",
    "x1 = 0.317%\n",
    "s1 = 0.12%\n",
    "Population 2: Price of sugar = Rs. 20.00 n2 = 9\n",
    "x2 = 0.21%\n",
    "s2 = 0.11%"
   ]
  },
  {
   "cell_type": "code",
   "execution_count": 35,
   "metadata": {},
   "outputs": [],
   "source": [
    "n1 = 14\n",
    "x1 = 0.317*27.50\n",
    "s1 = 0.12*27.50\n",
    "\n",
    "n2 = 9\n",
    "x2 = 0.21*20.0\n",
    "s2 = 0.11*20\n",
    "df = 14+9-2"
   ]
  },
  {
   "cell_type": "markdown",
   "metadata": {},
   "source": [
    "The null hypothesis (H0) is no difference between the two different prices i.e x1 = x2\n",
    "\n",
    "The alternative hypothesis is there is difference between two different prices i.e. x1 != x2"
   ]
  },
  {
   "cell_type": "code",
   "execution_count": 41,
   "metadata": {},
   "outputs": [
    {
     "name": "stdout",
     "output_type": "stream",
     "text": [
      "2.7967020221194385\n",
      "0.005404637398853884\n"
     ]
    },
    {
     "data": {
      "text/plain": [
       "Ttest_indResult(statistic=3.6086382137896145, pvalue=0.0016494680699567412)"
      ]
     },
     "execution_count": 41,
     "metadata": {},
     "output_type": "execute_result"
    }
   ],
   "source": [
    "t_value=(x1-x2)/((s1/(n1**0.5)+(s2)/(n2**0.5)))\n",
    "print(t_value)\n",
    "p = 1- stats.t.cdf(t_value,df=21)\n",
    "print(p)\n",
    "## T-test with different means and variance\n",
    "stats.ttest_ind_from_stats(x1,s1,n1,x2,s2,n2)"
   ]
  },
  {
   "cell_type": "markdown",
   "metadata": {},
   "source": [
    "Since P-value is less than 0.05, Alternative hypothesis is accepted. There is evidence to conclude that average percentage increase in the price of sugar differs when it is sold at two different prices"
   ]
  },
  {
   "cell_type": "markdown",
   "metadata": {},
   "source": [
    "Problem Statement 14:\n",
    "The manufacturers of compact disk players want to test whether a small price reduction is enough to increase sales of their product. Is there evidence that the small price reduction is enough to increase sales of compact disk players?\n",
    "Population 1: Before reduction\n",
    "n1 = 15\n",
    "x1 = Rs. 6598 s1 = Rs. 844\n",
    "Population 2: After reduction n2 = 12\n",
    "x2 = RS. 6870\n",
    "s2 = Rs. 669"
   ]
  },
  {
   "cell_type": "code",
   "execution_count": 43,
   "metadata": {},
   "outputs": [],
   "source": [
    "n1 = 15\n",
    "x1 = 6598\n",
    "s1 =844\n",
    "\n",
    "n2 = 12\n",
    "x2 = 6870\n",
    "s2 = 669\n",
    "df = 15+12-2"
   ]
  },
  {
   "cell_type": "markdown",
   "metadata": {},
   "source": [
    "The null hypothesis (H0) is no difference in sale with a small price reduction i.e x1 = x2\n",
    "\n",
    "The alternative hypothesis is there is difference in sale with a small price reduction i.e. x1 != x2"
   ]
  },
  {
   "cell_type": "code",
   "execution_count": 56,
   "metadata": {},
   "outputs": [
    {
     "name": "stdout",
     "output_type": "stream",
     "text": [
      "-0.6617304043922669\n",
      "0.742901180060753\n",
      "-1.708140761251899\n"
     ]
    }
   ],
   "source": [
    "t_value=(x1-x2)/((s1/(n1**0.5)+(s2)/(n2**0.5)))\n",
    "print(t_value)\n",
    "p = 1- stats.t.cdf(t_value,df=25)\n",
    "print(p)\n",
    "tcalc= stats.t.ppf(0.05,25)\n",
    "print(tcalc)"
   ]
  },
  {
   "cell_type": "code",
   "execution_count": 52,
   "metadata": {},
   "outputs": [
    {
     "data": {
      "text/plain": [
       "Ttest_indResult(statistic=-0.9098300343990461, pvalue=0.3716010051185177)"
      ]
     },
     "execution_count": 52,
     "metadata": {},
     "output_type": "execute_result"
    }
   ],
   "source": [
    "## T-test with different means and variance\n",
    "stats.ttest_ind_from_stats(x1,s1,n1,x2,s2,n2)"
   ]
  },
  {
   "cell_type": "markdown",
   "metadata": {},
   "source": [
    "Since P-value is more than 0.05, Null hypothesis is accepted. There is evidence that there is no difference in sale with a small price reduction."
   ]
  },
  {
   "cell_type": "markdown",
   "metadata": {},
   "source": [
    "Problem Statement 15:\n",
    "Comparisons of two population proportions when the hypothesized difference is zero Carry out a two-tailed test of the equality of banks’ share of the car loan market in 1980 and 1995.\n",
    "Population 1: 1980\n",
    "n1 = 1000\n",
    "x1 = 53\n",
    "p1 = 0.53\n",
    "Population 2: 1985\n",
    "n2 = 100\n",
    "x2 = 43\n",
    "p2= 0.43"
   ]
  },
  {
   "cell_type": "markdown",
   "metadata": {},
   "source": [
    "The null hypothesis (H0) is no difference between the two populaiton mean i.e x1 - x2=0\n",
    "\n",
    "The alternative hypothesis is there is difference between two population i.e. x1 -x2 != 0"
   ]
  },
  {
   "cell_type": "code",
   "execution_count": 103,
   "metadata": {},
   "outputs": [],
   "source": [
    "n1=1000\n",
    "x1=53\n",
    "p1=0.53\n",
    "\n",
    "n2=100\n",
    "x2=43\n",
    "p2=0.43"
   ]
  },
  {
   "cell_type": "code",
   "execution_count": 108,
   "metadata": {},
   "outputs": [
    {
     "name": "stdout",
     "output_type": "stream",
     "text": [
      "0.08727272727272728\n"
     ]
    }
   ],
   "source": [
    "p=(x1+x2)/(n1+n2)\n",
    "print(p)\n",
    "##z_value =(p1-p2)/(p*(1-p)*(2/100))**0.5\n",
    "z_value=1.415\n",
    "crticalz= 1.645"
   ]
  },
  {
   "cell_type": "markdown",
   "metadata": {},
   "source": [
    "Conclusion -z_value is in acceptance region. Ho is accpeted. There is no statistically significant difference between banks."
   ]
  },
  {
   "cell_type": "markdown",
   "metadata": {},
   "source": [
    "Problem Statement 16:\n",
    "Carry out a one-tailed test to determine whether the population proportion of traveler’s check buyers who buy at least $2500 in checks when sweepstakes prizes are offered as at least 10% higher than the proportion of such buyers when no\n",
    "sweepstakes are on.\n",
    "Population 1: With sweepstakes\n",
    "n1 = 300\n",
    "x1 = 120\n",
    "p = 0.40\n",
    "Population 2: No sweepstakes \n",
    "n2 = 700\n",
    "x2 = 140\n",
    "p2= 0.20"
   ]
  },
  {
   "cell_type": "code",
   "execution_count": 115,
   "metadata": {},
   "outputs": [],
   "source": [
    "n1=300\n",
    "x1=120\n",
    "p1=0.4\n",
    "\n",
    "n2=700\n",
    "x2=140\n",
    "p2=0.2\n",
    "\n",
    "D=0.1\n"
   ]
  },
  {
   "cell_type": "markdown",
   "metadata": {},
   "source": [
    "The null hypothesis (H0) p1-p2 <0.10\n",
    "\n",
    "The alternative hypothesis Ha: p1-p2>0.1"
   ]
  },
  {
   "cell_type": "code",
   "execution_count": 120,
   "metadata": {},
   "outputs": [
    {
     "name": "stdout",
     "output_type": "stream",
     "text": [
      "3.1180478223116177\n",
      "-3.090232306167813\n"
     ]
    }
   ],
   "source": [
    "z_value =((p1-p2)- D)/((p1*(1-p1)/n1) + (p2*(1-p2)/n2))**0.5\n",
    "print(z_value)\n",
    "z = stats.norm.ppf(0.001,0,1)\n",
    "print(z)"
   ]
  },
  {
   "cell_type": "markdown",
   "metadata": {},
   "source": [
    "Conclusion - z_value is in rejection region. Ho is rejected at common level of siginificance"
   ]
  },
  {
   "cell_type": "markdown",
   "metadata": {},
   "source": [
    "Problem Statement 17: \n",
    "A die is thrown 132 times with the following results: Number turned up: 1, 2, 3, 4, 5, 6\n",
    "Frequency: 16, 20, 25, 14, 29, 28\n",
    "Is the die unbiased? Consider the degrees of freedom as 𝑝 −1"
   ]
  },
  {
   "cell_type": "markdown",
   "metadata": {},
   "source": [
    "Ho = Die is not biased\n",
    "H1= Die is biased"
   ]
  },
  {
   "cell_type": "code",
   "execution_count": 138,
   "metadata": {},
   "outputs": [
    {
     "name": "stdout",
     "output_type": "stream",
     "text": [
      "chi_square x^2: 9.0\n",
      "11.070497693516351\n"
     ]
    }
   ],
   "source": [
    "obv = [16,20,25,14,29,28]\n",
    "df_obv=pd.DataFrame(obv, columns=['ob'])\n",
    "df_obv['exp'] = [22,22,22,22,22,22]\n",
    "df_obv['ch']= (df_obv['ob'] - df_obv['exp'])**2/df_obv['exp']\n",
    "chi_square = df_obv['ch'].sum()\n",
    "print(f\"chi_square x^2: {chi_square}\")\n",
    "df = 6-1\n",
    "ch_critical=stats.chi2.ppf(0.95,5)\n",
    "print(ch_critical)"
   ]
  },
  {
   "cell_type": "markdown",
   "metadata": {},
   "source": [
    "Conclusion - Calculated chi_square value is in acceptance region. Ho is accepted, therefore die is unbaised."
   ]
  },
  {
   "cell_type": "markdown",
   "metadata": {},
   "source": [
    "Problem Statement 18: \n",
    "In a certain town, there are about one million eligible voters. A simple random sample of 10,000 eligible voters was chosen to study the relationship between gender and participation in the last election. The results are summarized in the\n",
    "following 2X2 (read two by two) contingency table:\n",
    "oberved Table  Men Women Total\n",
    "        Voted 2792 3591 6386\n",
    " Didn't Voted 1486 2131 3617\n",
    "        Total 4278 5722\n",
    "Expected Table Men Women\n",
    "        Voted 2731 3652\n",
    "  Didn't Vote 1547 2070\n",
    "We would want to check whether being a man or a woman (columns) is independent of having voted in the last election (rows). In other words, is “gender and voting independent”?\n"
   ]
  },
  {
   "cell_type": "code",
   "execution_count": 146,
   "metadata": {},
   "outputs": [
    {
     "data": {
      "text/plain": [
       "Power_divergenceResult(statistic=6.584283456757529, pvalue=0.08639718274463479)"
      ]
     },
     "execution_count": 146,
     "metadata": {},
     "output_type": "execute_result"
    }
   ],
   "source": [
    "stats.chisquare([2792, 3591, 1486, 2131], f_exp=[2731, 3652, 1547, 2070])"
   ]
  },
  {
   "cell_type": "markdown",
   "metadata": {},
   "source": [
    "Ho = gender is independent of voting\n",
    "H1= gender is not independent of voting"
   ]
  },
  {
   "cell_type": "code",
   "execution_count": null,
   "metadata": {},
   "outputs": [],
   "source": [
    "df = (2-1)*(2-1) # two row n columns"
   ]
  },
  {
   "cell_type": "code",
   "execution_count": 162,
   "metadata": {},
   "outputs": [
    {
     "name": "stdout",
     "output_type": "stream",
     "text": [
      "3.841458820694124\n"
     ]
    }
   ],
   "source": [
    "ch_critical1=stats.chi2.ppf(0.95, 1)\n",
    "print(ch_critical1)"
   ]
  },
  {
   "cell_type": "code",
   "execution_count": null,
   "metadata": {},
   "outputs": [],
   "source": [
    "Conclusion - Calculated chi_square value( 6.5) is in critical region. Ho is rejected, therefore voting pattern and gender status are not statistically dependent on one another."
   ]
  },
  {
   "cell_type": "markdown",
   "metadata": {},
   "source": [
    "Problem Statement 19:\n",
    "A sample of 100 voters are asked which of four candidates they would vote for in an election. The number supporting each candidate is given below:\n",
    "           Higgins Reardon White charlton \n",
    "   observed    41  19      24    16\n",
    "   Expected    25  25      25    25\n",
    "\n",
    "Do the data suggest that all candidates are equally popular? [Chi-Square = 14.96, with 3 df, 𝑝 0.05 .\n"
   ]
  },
  {
   "cell_type": "markdown",
   "metadata": {},
   "source": [
    "Ho - Candidates are equally popuplar\n",
    "H1- Candidates are not equally popuplar"
   ]
  },
  {
   "cell_type": "code",
   "execution_count": 192,
   "metadata": {},
   "outputs": [
    {
     "name": "stdout",
     "output_type": "stream",
     "text": [
      "Power_divergenceResult(statistic=14.959999999999999, pvalue=0.001851152735284203)\n"
     ]
    }
   ],
   "source": [
    "chi_calc = stats.chisquare([41, 19, 24, 16], f_exp=[25, 25, 25, 25])\n",
    "print(chi_calc)"
   ]
  },
  {
   "cell_type": "markdown",
   "metadata": {},
   "source": [
    "Chi-Square_critical (0.05,3) = 7.82"
   ]
  },
  {
   "cell_type": "markdown",
   "metadata": {},
   "source": [
    "Conclusion - Calculated chi_square value( 14.96) is in critical region. Ho is rejected therefore candidates are not equally popuplar."
   ]
  },
  {
   "cell_type": "markdown",
   "metadata": {},
   "source": [
    "Problem Statement 20:\n",
    "Children of three ages are asked to indicate their preference for three photographs of\n",
    "adults. Do the data suggest that there is a significant relationship between age and\n",
    "photograph preference? What is wrong with this study? [Chi-Square = 29.6, with 4 df: 𝑝 < 0.05]."
   ]
  },
  {
   "attachments": {},
   "cell_type": "markdown",
   "metadata": {},
   "source": [
    "observed \tA \tB\t C\t\tExpected A \tB\t C\n",
    "    5-6yrs\t18\t22\t20\t60\t5-6yrs\t12\t18\t30\n",
    "    7-8yrs\t2\t28\t40\t70\t7-8yrs\t14\t21\t35\n",
    "    9-10yrs\t20\t10\t40\t70\t9-10yrs\t14\t21\t35\n",
    "            40\t60\t100\t\t\t\t\t\n",
    "            Total\t200\t\t\t\t\t\n"
   ]
  },
  {
   "cell_type": "markdown",
   "metadata": {},
   "source": [
    "Ho - There is a significant relationship between age and photograph preference\n",
    "H1- There is a no significant relationship between age and photograph preference"
   ]
  },
  {
   "cell_type": "code",
   "execution_count": 193,
   "metadata": {},
   "outputs": [
    {
     "name": "stdout",
     "output_type": "stream",
     "text": [
      "Power_divergenceResult(statistic=29.603174603174608, pvalue=0.00024837483246733366)\n"
     ]
    }
   ],
   "source": [
    "chi_calc = stats.chisquare([18, 22, 20, 2,28,40,20,10,40], f_exp=[12, 18, 30, 14,21,35,14,21,35])\n",
    "print(chi_calc)"
   ]
  },
  {
   "cell_type": "code",
   "execution_count": null,
   "metadata": {},
   "outputs": [],
   "source": [
    "df=(4-1)*(3-1)\n",
    "print(df)\n",
    "Chi-Square_critical (0.05,6) = 12.59"
   ]
  },
  {
   "cell_type": "code",
   "execution_count": 198,
   "metadata": {},
   "outputs": [
    {
     "name": "stdout",
     "output_type": "stream",
     "text": [
      "12.591587243743977\n"
     ]
    }
   ],
   "source": [
    "ch_critical1=stats.chi2.ppf(0.95, 6)\n",
    "print(ch_critical1)"
   ]
  },
  {
   "cell_type": "markdown",
   "metadata": {},
   "source": [
    "Conclusion - Calculated chi_square value( 29.60) falls in critical region. Ho is rejected,There is a no significant relationship between age and photograph preference."
   ]
  },
  {
   "cell_type": "markdown",
   "metadata": {},
   "source": [
    "Problem Statement 21:\n",
    "A study of conformity using the Asch paradigm involved two conditions: one where one confederate supported the true judgement and another where no confederate gave the correct response.\n",
    "Is there a significant difference between the \"support\" and \"no support\" conditions in the frequency with which individuals are likely to conform? [Chi-Square = 19.87, with 1 df: 𝑝 < 0.05].\n"
   ]
  },
  {
   "attachments": {},
   "cell_type": "markdown",
   "metadata": {},
   "source": [
    "Observed \tSupport\tNo Support\t\t Expected Support\tNo Support\n",
    "   Conform\t18\t    22\t   \t\t  Conform\t    11\t     29\n",
    "Not Conform\t2\t   28\t   \t     Not Conform\t9\t     21\n",
    "\tTotal\t70\t\t\t\t\t\n"
   ]
  },
  {
   "cell_type": "markdown",
   "metadata": {},
   "source": [
    "Ho - There is a significant relationship between \"support\" and \"no support\" conditions\n",
    "H1 - There is a no significant relationship between \"support\" and \"no support\" conditions"
   ]
  },
  {
   "cell_type": "code",
   "execution_count": 194,
   "metadata": {},
   "outputs": [
    {
     "name": "stdout",
     "output_type": "stream",
     "text": [
      "Power_divergenceResult(statistic=13.921978404737025, pvalue=0.003013300191723246)\n"
     ]
    }
   ],
   "source": [
    "chi_calc = stats.chisquare([18, 22, 2,28], f_exp=[11, 29, 9, 21])\n",
    "print(chi_calc)"
   ]
  },
  {
   "cell_type": "code",
   "execution_count": null,
   "metadata": {},
   "outputs": [],
   "source": [
    "df=(2-1)*(2-1)\n",
    "print(df)\n",
    "Chi-Square_critical (0.05,1) = 3.84"
   ]
  },
  {
   "cell_type": "code",
   "execution_count": 199,
   "metadata": {},
   "outputs": [
    {
     "name": "stdout",
     "output_type": "stream",
     "text": [
      "3.841458820694124\n"
     ]
    }
   ],
   "source": [
    "ch_critical1=stats.chi2.ppf(0.95, 1)\n",
    "print(ch_critical1)"
   ]
  },
  {
   "cell_type": "markdown",
   "metadata": {},
   "source": [
    "Conclusion - Calculated chi_square value( 13.92) falls in critical region. Ho is rejected,There is a no significant relationship between \"support\" and \"no support\" conditions."
   ]
  },
  {
   "cell_type": "markdown",
   "metadata": {},
   "source": [
    "Problem Statement 22: \n",
    "We want to test whether short people differ with respect to their leadership qualities (Genghis Khan, Adolf Hitler and Napoleon were all stature-deprived, and how many midget MP's are there?) The following table shows the frequencies with which 43 short people and 52 tall people were categorized as \"leaders\", \"followers\" or as \"unclassifiable\". Is there a\n",
    "relationship between height and leadership qualities?\n",
    "[Chi-Square = 10.71, with 2 df: 𝑝 < 0.01]"
   ]
  },
  {
   "attachments": {},
   "cell_type": "markdown",
   "metadata": {},
   "source": [
    "observed \tshort\tTall\t\t\tExpected\tshort\tTall\n",
    "Leader\t    12\t    32\t\t44\t    Leader\t      20\t   24\n",
    "Follower\t22\t    14\t\t36\t    Follower\t  16\t    20\n",
    "Unclassifiable\t9\t6\t\t15\t    Unclassifiable\t7\t8\n",
    "Total 95"
   ]
  },
  {
   "cell_type": "markdown",
   "metadata": {},
   "source": [
    "Ho - There is a significant relationship between \"height\" and leadership\n",
    "H1 - There is a no significant relationship between \"height\" and leadership"
   ]
  },
  {
   "cell_type": "code",
   "execution_count": 196,
   "metadata": {},
   "outputs": [
    {
     "name": "stdout",
     "output_type": "stream",
     "text": [
      "Power_divergenceResult(statistic=10.988095238095239, pvalue=0.05161653140950149)\n"
     ]
    }
   ],
   "source": [
    "chi_calc = stats.chisquare([12, 32, 22,14,9,6], f_exp=[20, 24,16,20,7,8])\n",
    "print(chi_calc)"
   ]
  },
  {
   "cell_type": "code",
   "execution_count": null,
   "metadata": {},
   "outputs": [],
   "source": [
    "df=(3-1)*(3-1)\n",
    "print(df)\n",
    "Chi-Square_critical (0.05,4) = 9.49"
   ]
  },
  {
   "cell_type": "code",
   "execution_count": 200,
   "metadata": {},
   "outputs": [
    {
     "name": "stdout",
     "output_type": "stream",
     "text": [
      "9.487729036781154\n"
     ]
    }
   ],
   "source": [
    "ch_critical1=stats.chi2.ppf(0.95, 4)\n",
    "print(ch_critical1)"
   ]
  },
  {
   "cell_type": "markdown",
   "metadata": {},
   "source": [
    "Conclusion - Calculated chi_square value( 10.98) falls in critical region. Ho is rejected,There is a no significant relationship between \"height\" and leadership."
   ]
  },
  {
   "cell_type": "markdown",
   "metadata": {},
   "source": [
    "Problem Statement 22:\n",
    "Each respondent in the Current Population Survey of March 1993 was classified as employed, unemployed, or outside the labor force. The results for men in California age 35-44 can be cross-tabulated by marital status, as follows:\n",
    "Men of different marital status seem to have different distributions of labor force status. Or is this just chance variation? (you may assume the table results from a simple random sample.)"
   ]
  },
  {
   "attachments": {},
   "cell_type": "markdown",
   "metadata": {},
   "source": [
    "Observed \tMarried\tseparated/widowed\tNever Married\t\tExpected\tMarried\tseparated/widowed\tNever Married\n",
    "Employed\t679\t         103\t        114\t                 Employed\t654\t    109\t        133\n",
    "Unemployed\t63\t         10\t            20\t                Unemployed\t68\t    11\t   14\n",
    "Not in lobor Force\t42\t 18\t            25\t         Not in lobor Force\t62\t    11\t     13\n",
    "\t784\t131\t159\t\t\t\t\t\n",
    "Total\t1074\t\t\t\t\t\n"
   ]
  },
  {
   "cell_type": "markdown",
   "metadata": {},
   "source": []
  },
  {
   "cell_type": "code",
   "execution_count": 197,
   "metadata": {},
   "outputs": [
    {
     "name": "stdout",
     "output_type": "stream",
     "text": [
      "Power_divergenceResult(statistic=29.013284591853783, pvalue=0.0003154003990461922)\n"
     ]
    }
   ],
   "source": [
    "chi_calc = stats.chisquare([679, 103, 114,63,10,20,42,18,25], f_exp=[654, 109,133,68,11,14,62,11,13])\n",
    "print(chi_calc)"
   ]
  },
  {
   "cell_type": "code",
   "execution_count": null,
   "metadata": {},
   "outputs": [],
   "source": [
    "df=(3-1)*(3-1)\n",
    "print(df)\n",
    "Chi-Square_critical (0.05,4) = 9.49\n",
    "pvalue=0.0003 < 0.05"
   ]
  },
  {
   "cell_type": "code",
   "execution_count": 202,
   "metadata": {},
   "outputs": [
    {
     "name": "stdout",
     "output_type": "stream",
     "text": [
      "9.487729036781154\n"
     ]
    }
   ],
   "source": [
    "ch_critical1=stats.chi2.ppf(0.95, 4)\n",
    "print(ch_critical1)"
   ]
  },
  {
   "cell_type": "code",
   "execution_count": null,
   "metadata": {},
   "outputs": [],
   "source": [
    "Conclusion - Calculated chi_square value( 29.01) falls in critical region. Ho is rejected,There is a no relationship between rows and columns."
   ]
  }
 ],
 "metadata": {
  "kernelspec": {
   "display_name": "Python 3",
   "language": "python",
   "name": "python3"
  },
  "language_info": {
   "codemirror_mode": {
    "name": "ipython",
    "version": 3
   },
   "file_extension": ".py",
   "mimetype": "text/x-python",
   "name": "python",
   "nbconvert_exporter": "python",
   "pygments_lexer": "ipython3",
   "version": "3.7.6"
  }
 },
 "nbformat": 4,
 "nbformat_minor": 4
}
